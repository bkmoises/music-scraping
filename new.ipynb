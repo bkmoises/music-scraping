{
 "cells": [
  {
   "cell_type": "code",
   "execution_count": 47,
   "metadata": {},
   "outputs": [],
   "source": [
    "import os\n",
    "import json\n",
    "import time\n",
    "import argparse\n",
    "\n",
    "import pandas as pd\n",
    "\n",
    "from bs4 import BeautifulSoup\n",
    "\n",
    "from selenium import webdriver\n",
    "from selenium.webdriver.common.by import By\n",
    "from selenium.webdriver.common.keys import Keys\n",
    "from selenium.webdriver.firefox.options import Options\n",
    "\n",
    "from langchain_groq import ChatGroq\n",
    "from langchain_core.prompts import ChatPromptTemplate\n",
    "from langchain_core.output_parsers import JsonOutputParser"
   ]
  },
  {
   "cell_type": "code",
   "execution_count": 51,
   "metadata": {},
   "outputs": [
    {
     "data": {
      "text/plain": [
       "_StoreAction(option_strings=['--full'], dest='full', nargs=None, const=None, default=False, type=<class 'bool'>, choices=None, required=False, help='Scrape all videos data if True', metavar=None)"
      ]
     },
     "execution_count": 51,
     "metadata": {},
     "output_type": "execute_result"
    }
   ],
   "source": [
    "parser = argparse.ArgumentParser(description='Scrape music data from a YouTube channel')\n",
    "parser.add_argument('--url', type=str, help='URL to scrape chat data from')\n",
    "parser.add_argument('--output', type=str, help='Output file path')\n",
    "parser.add_argument('--temperature', type=float, default=0.5, help='Temperature for the model')\n",
    "parser.add_argument('--full', type=bool, default=False, help='Scrape all videos data if True')"
   ]
  },
  {
   "cell_type": "code",
   "execution_count": 50,
   "metadata": {},
   "outputs": [
    {
     "name": "stdout",
     "output_type": "stream",
     "text": [
      "URL: https://example.com\n",
      "Output file path: output.json\n",
      "Temperature: 0.8\n",
      "Full scrape: True\n"
     ]
    }
   ],
   "source": [
    "import sys\n",
    "\n",
    "sys.argv = [\n",
    "    \"notebook\",\n",
    "    \"--url\", \"https://example.com\",\n",
    "    \"--output\", \"output.json\",\n",
    "    \"--temperature\", \"0.8\",\n",
    "    \"--full\", \"True\"\n",
    "]\n",
    "\n",
    "args = parser.parse_args()\n",
    "\n",
    "# Verifique os valores\n",
    "print(\"URL:\", args.url)\n",
    "print(\"Output file path:\", args.output)\n",
    "print(\"Temperature:\", args.temperature)\n",
    "print(\"Full scrape:\", args.full)\n"
   ]
  },
  {
   "cell_type": "code",
   "execution_count": 3,
   "metadata": {},
   "outputs": [],
   "source": [
    "DOMAIN = 'https://www.youtube.com/'\n",
    "CHANNEL = '@GreatStonedDragon'\n",
    "URL = f'{DOMAIN}{CHANNEL}/videos'"
   ]
  },
  {
   "cell_type": "code",
   "execution_count": null,
   "metadata": {},
   "outputs": [],
   "source": [
    "class App:\n",
    "    def __init__(\n",
    "        self,\n",
    "        url: str,\n",
    "        full: bool=False,\n",
    "        model_name: str=\"llama-3.3-70b-versatile\", \n",
    "        temperature: float=0.7\n",
    "        ):\n",
    "        \n",
    "        self.url = url\n",
    "        self.full = full\n",
    "        self.model_name = model_name\n",
    "        self.temperature = temperature\n",
    "        self.llm = ChatGroq(model_name=model_name, temperature=temperature)\n",
    "\n",
    "        self.parser = JsonOutputParser(pydantic_object={\n",
    "            \"type\": \"object\",\n",
    "            \"properties\": {\n",
    "                \"artist\": {\"type\": \"string\"},\n",
    "                \"track\": {\"type\": \"string\"},\n",
    "                \"title\": {\"type\": \"string\"},\n",
    "                \"original_title\": {\"type\": \"string\"},\n",
    "            }\n",
    "        })\n",
    "        \n",
    "        self.prompt = ChatPromptTemplate.from_messages([\n",
    "            (\"system\", \"\"\"\"Extract music details into JSON with this structure:\n",
    "                {{\n",
    "                    \"artist\": \"artist name here\",\n",
    "                    \"track\": \"track name here\",\n",
    "                    \"title\": \"full title here, artist + track\",\n",
    "                    \"original_title\": \"original title here\"\n",
    "                }}\"\"\"),\n",
    "            (\"user\", \"{input}\")\n",
    "        ])\n",
    "        \n",
    "        self.chain = self.prompt | self.llm | self.parser\n",
    "\n",
    "        self.titles = self._get_content()\n",
    "    \n",
    "\n",
    "    def _parse(self, html: str) -> dict:\n",
    "        titles = []\n",
    "        soup = BeautifulSoup(html, \"html.parser\")\n",
    "        titles_element = soup.find_all(id=\"video-title\")\n",
    "\n",
    "        for title in titles_element:\n",
    "            f_title = title.get_text(strip=True)\n",
    "            \n",
    "            titles.append(f_title)\n",
    "        \n",
    "        return titles\n",
    "    \n",
    "\n",
    "    def _get_content(self) -> list:\n",
    "        options = Options()\n",
    "        options.add_argument(\"--headless\")\n",
    "        driver = webdriver.Firefox(options=options)\n",
    "        \n",
    "        driver.get(self.url)\n",
    "        time.sleep(3)\n",
    "        \n",
    "        if self.full:\n",
    "            last_height = driver.execute_script(\"return document.documentElement.scrollHeight\")\n",
    "\n",
    "            while True:\n",
    "                driver.execute_script(\"window.scrollTo(0, document.documentElement.scrollHeight);\")\n",
    "                time.sleep(2)\n",
    "\n",
    "                new_height = driver.execute_script(\"return document.documentElement.scrollHeight\")\n",
    "                \n",
    "                if new_height == last_height:\n",
    "                    break\n",
    "                \n",
    "                last_height = new_height\n",
    "        \n",
    "        html = driver.page_source\n",
    "        driver.quit()\n",
    "        \n",
    "        return self._parse(html)\n",
    "    \n",
    "\n",
    "    def _ask(self, description: str) -> dict:\n",
    "        return self.chain.invoke({\"input\": description})\n",
    "    \n",
    "    \n",
    "app = App(URL)\n",
    "app.titles"
   ]
  }
 ],
 "metadata": {
  "kernelspec": {
   "display_name": ".env",
   "language": "python",
   "name": "python3"
  },
  "language_info": {
   "codemirror_mode": {
    "name": "ipython",
    "version": 3
   },
   "file_extension": ".py",
   "mimetype": "text/x-python",
   "name": "python",
   "nbconvert_exporter": "python",
   "pygments_lexer": "ipython3",
   "version": "3.10.12"
  }
 },
 "nbformat": 4,
 "nbformat_minor": 2
}
