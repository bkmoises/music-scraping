{
 "cells": [
  {
   "cell_type": "code",
   "execution_count": 2,
   "metadata": {},
   "outputs": [],
   "source": [
    "import requests"
   ]
  },
  {
   "cell_type": "code",
   "execution_count": 1,
   "metadata": {},
   "outputs": [],
   "source": [
    "cliend_id = '94f49f5c700c49bd84f844b30cdc45cc'\n",
    "secret = '10298761326441fd8ca7be29a97214f4'"
   ]
  },
  {
   "cell_type": "code",
   "execution_count": null,
   "metadata": {},
   "outputs": [],
   "source": []
  },
  {
   "cell_type": "code",
   "execution_count": null,
   "metadata": {},
   "outputs": [],
   "source": [
    "var authOptions = {\n",
    "  url: 'https://accounts.spotify.com/api/token',\n",
    "  headers: {\n",
    "    'Authorization': 'Basic ' + (new Buffer.from(client_id + ':' + client_secret).toString('base64'))\n",
    "  },\n",
    "  form: {\n",
    "    grant_type: 'client_credentials'\n",
    "  },\n",
    "  json: true\n",
    "};\n",
    "\n",
    "request.post(authOptions, function(error, response, body) {\n",
    "  if (!error && response.statusCode === 200) {\n",
    "    var token = body.access_token;\n",
    "  }\n",
    "});"
   ]
  }
 ],
 "metadata": {
  "kernelspec": {
   "display_name": ".env",
   "language": "python",
   "name": "python3"
  },
  "language_info": {
   "codemirror_mode": {
    "name": "ipython",
    "version": 3
   },
   "file_extension": ".py",
   "mimetype": "text/x-python",
   "name": "python",
   "nbconvert_exporter": "python",
   "pygments_lexer": "ipython3",
   "version": "3.13.1"
  }
 },
 "nbformat": 4,
 "nbformat_minor": 2
}
